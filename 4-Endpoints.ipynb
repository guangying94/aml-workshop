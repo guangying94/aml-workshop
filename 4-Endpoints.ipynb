{
 "cells": [
  {
   "cell_type": "markdown",
   "metadata": {},
   "source": [
    "# Sample Code to consume managed endpoints from Azure ML Model Catalogue\n",
    "The following code snippet demonstrates how to consume managed endpoints from Azure ML Model Catalogue. The code snippet is written in Python to consume the LLM Model as REST."
   ]
  },
  {
   "cell_type": "code",
   "execution_count": null,
   "metadata": {},
   "outputs": [],
   "source": [
    "!pip install requests"
   ]
  },
  {
   "cell_type": "code",
   "execution_count": null,
   "metadata": {},
   "outputs": [],
   "source": [
    "import requests\n",
    "import json\n",
    "\n",
    "url = 'API_URL' # Replace this with the API URL for the web service\n",
    "api_key = 'API_KEY' # Replace this with the API key for the web service\n",
    "\n",
    "headers = {'Content-Type':'application/json', 'Accept': 'application/json', 'Authorization':('Bearer '+ api_key)}\n",
    "\n",
    "data = {\n",
    "  \"input_data\": {\n",
    "    \"input_string\": [\n",
    "    {\n",
    "        \"role\": \"system\",\n",
    "        \"content\": \"You are a helpful assistant.\"\n",
    "      },\n",
    "      {\n",
    "        \"role\": \"user\",\n",
    "        \"content\": \"I am going to Paris, what should I see?\"\n",
    "      }\n",
    "    ],\n",
    "    \"parameters\": {\n",
    "      \"max_new_tokens\": 4096\n",
    "    }\n",
    "  }\n",
    "}\n",
    "\n",
    "body = str.encode(json.dumps(data))\n",
    "\n",
    "req = requests.post(url, data=body, headers=headers)\n",
    "response = req.json()\n",
    "print(response)\n"
   ]
  }
 ],
 "metadata": {
  "kernelspec": {
   "display_name": "Python 3",
   "language": "python",
   "name": "python3"
  },
  "language_info": {
   "codemirror_mode": {
    "name": "ipython",
    "version": 3
   },
   "file_extension": ".py",
   "mimetype": "text/x-python",
   "name": "python",
   "nbconvert_exporter": "python",
   "pygments_lexer": "ipython3",
   "version": "3.12.1"
  }
 },
 "nbformat": 4,
 "nbformat_minor": 2
}
