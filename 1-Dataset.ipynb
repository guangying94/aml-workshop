{
  "cells": [
    {
      "cell_type": "markdown",
      "metadata": {
        "nteract": {
          "transient": {
            "deleting": false
          }
        }
      },
      "source": [
        "# Azure ML Dataset\n",
        "The following code illustrate how to create dataset for AML experiment consumption.\n",
        "\n",
        "There are 3 type of dataset in AML:\n",
        "\n",
        "1. Table\n",
        "2. File\n",
        "3. Folder\n",
        "\n",
        "\n",
        "More details here: https://learn.microsoft.com/en-us/azure/machine-learning/how-to-create-data-assets?view=azureml-api-2&tabs=cli"
      ]
    },
    {
      "cell_type": "markdown",
      "metadata": {
        "nteract": {
          "transient": {
            "deleting": false
          }
        }
      },
      "source": [
        "## MLTable\n",
        "This is the most advanced options, besides the data, it also provides advanced capability such as versioning, schema etc.\n",
        "\n",
        "There are many ways to create MLTable, which will illustate below.\n"
      ]
    },
    {
      "cell_type": "markdown",
      "metadata": {
        "nteract": {
          "transient": {
            "deleting": false
          }
        }
      },
      "source": [
        "#### MLTable - CSV\n",
        "The following sample code illustrate how to create MLTable from CSV, whether it's from local file, or from remote location."
      ]
    },
    {
      "cell_type": "code",
      "execution_count": null,
      "metadata": {},
      "outputs": [],
      "source": [
        "!pip install -r requirements.txt"
      ]
    },
    {
      "cell_type": "code",
      "execution_count": null,
      "metadata": {
        "gather": {
          "logged": 1741228577175
        }
      },
      "outputs": [],
      "source": [
        "subscription_id = \"xxxxxxxx-xxxx-xxxx-xxxx-xxxxxxxxxxxx\"\n",
        "resource_group = \"RESOURCE_GROUP_NAME\"\n",
        "workspace = \"WORKSPACE_NAME\""
      ]
    },
    {
      "cell_type": "code",
      "execution_count": null,
      "metadata": {
        "gather": {
          "logged": 1741228585247
        }
      },
      "outputs": [],
      "source": [
        "# Download from Azure Sample and display the output\n",
        "\n",
        "import mltable\n",
        "from mltable import MLTableHeaders, MLTableFileEncoding, DataType\n",
        "\n",
        "# create paths to the data files\n",
        "paths = [{\"file\": \"wasbs://data@azuremlexampledata.blob.core.windows.net/titanic.csv\"}]\n",
        "\n",
        "# create an MLTable from the data files\n",
        "tbl = mltable.from_delimited_files(\n",
        "    paths=paths,\n",
        "    delimiter=\",\",\n",
        "    header=MLTableHeaders.all_files_same_headers,\n",
        "    infer_column_types=True,\n",
        "    include_path_column=False,\n",
        "    encoding=MLTableFileEncoding.utf8,\n",
        ")\n",
        "\n",
        "# Set the column types manually\n",
        "# We can use the DataType.to_*() functions to convert the column types\n",
        "\"\"\"\n",
        "column_types = {\n",
        "    \"PassengerId\": DataType.to_int(),\n",
        "    \"Survived\": DataType.to_int(),\n",
        "    \"Pclass\": DataType.to_int(),\n",
        "    \"Name\": DataType.to_string(),\n",
        "    \"Sex\": DataType.to_string(),\n",
        "    \"Age\": DataType.to_int(),\n",
        "    \"SibSp\": DataType.to_int(),\n",
        "    \"Parch\": DataType.to_int(),\n",
        "    \"Ticket\": DataType.to_string(),\n",
        "    \"Fare\": DataType.to_float(),\n",
        "    \"Cabin\": DataType.to_string(),\n",
        "    \"Embarked\": DataType.to_string(),\n",
        "}\n",
        "tbl = tbl.convert_column_types(column_types)\n",
        "\"\"\"\n",
        "\n",
        "# filter out rows undefined ages\n",
        "tbl = tbl.filter(\"col('Age') > 0\")\n",
        "\n",
        "# drop PassengerId\n",
        "tbl = tbl.drop_columns([\"PassengerId\"])\n",
        "\n",
        "# ensure survived column is treated as boolean\n",
        "data_types = {\n",
        "    \"Survived\": DataType.to_bool(\n",
        "        true_values=[\"True\", \"true\", \"1\"], false_values=[\"False\", \"false\", \"0\"]\n",
        "    )\n",
        "}\n",
        "tbl = tbl.convert_column_types(data_types)\n",
        "\n",
        "# show the first 5 records\n",
        "tbl.show(5)"
      ]
    },
    {
      "cell_type": "code",
      "execution_count": null,
      "metadata": {
        "gather": {
          "logged": 1741228586597
        }
      },
      "outputs": [],
      "source": [
        "# Optional - load table into pandas\n",
        "\n",
        "df = tbl.to_pandas_dataframe()\n",
        "df.head(5)"
      ]
    },
    {
      "cell_type": "code",
      "execution_count": null,
      "metadata": {
        "gather": {
          "logged": 1741228586675
        }
      },
      "outputs": [],
      "source": [
        "# Save data loading steps - transformation done above\n",
        "# The above dropped columns and filtered the dataset\n",
        "\n",
        "tbl.save(\"./titanic\")"
      ]
    },
    {
      "cell_type": "code",
      "execution_count": null,
      "metadata": {
        "gather": {
          "logged": 1741228586737
        }
      },
      "outputs": [],
      "source": [
        "# Verify MLTable is created\n",
        "\n",
        "with open(\"./titanic/MLTable\", \"r\") as f:\n",
        "    print(f.read())"
      ]
    },
    {
      "cell_type": "code",
      "execution_count": null,
      "metadata": {
        "gather": {
          "logged": 1741228586799
        }
      },
      "outputs": [],
      "source": [
        "# Reproduce the data loading steps and load into tbl\n",
        "\n",
        "import mltable\n",
        "\n",
        "# load the previously saved MLTable file\n",
        "tbl = mltable.load(\"./titanic/\")"
      ]
    },
    {
      "cell_type": "code",
      "execution_count": null,
      "metadata": {
        "gather": {
          "logged": 1741228590245
        }
      },
      "outputs": [],
      "source": [
        "# Ceate MLTable\n",
        "import time\n",
        "from azure.ai.ml import MLClient\n",
        "from azure.ai.ml.entities import Data\n",
        "from azure.ai.ml.constants import AssetTypes\n",
        "from azure.identity import DefaultAzureCredential\n",
        "\n",
        "# set the version number of the data asset to the current UTC time\n",
        "VERSION = time.strftime(\"%Y.%m.%d.%H%M%S\", time.gmtime())\n",
        "\n",
        "# connect to the AzureML workspace\n",
        "ml_client = MLClient(\n",
        "    DefaultAzureCredential(), subscription_id, resource_group, workspace\n",
        ")\n",
        "\n",
        "my_data = Data(\n",
        "    path=\"./titanic\",\n",
        "    type=AssetTypes.MLTABLE,\n",
        "    description=\"The titanic dataset.\",\n",
        "    name=\"titanic-cloud-example\",\n",
        "    version=VERSION,\n",
        ")\n",
        "\n",
        "ml_client.data.create_or_update(my_data)"
      ]
    },
    {
      "cell_type": "code",
      "execution_count": null,
      "metadata": {
        "gather": {
          "logged": 1741228590330
        }
      },
      "outputs": [],
      "source": [
        "# Read the table in development environment\n",
        "\n",
        "import mltable\n",
        "from azure.ai.ml import MLClient\n",
        "from azure.identity import DefaultAzureCredential\n",
        "\n",
        "# connect to the AzureML workspace\n",
        "ml_client = MLClient(\n",
        "    DefaultAzureCredential(), subscription_id, resource_group, workspace\n",
        ")\n",
        "\n",
        "# get the latest version of the data asset\n",
        "# Note: The version was set in the previous code cell.\n",
        "data_asset = ml_client.data.get(name=\"titanic-cloud-example\", version=VERSION)\n",
        "\n",
        "# create a table\n",
        "tbl = mltable.load(f\"azureml:/{data_asset.id}\")\n",
        "\n",
        "# load into pandas\n",
        "df = tbl.to_pandas_dataframe()\n",
        "df.head(5)"
      ]
    },
    {
      "cell_type": "markdown",
      "metadata": {
        "nteract": {
          "transient": {
            "deleting": false
          }
        }
      },
      "source": [
        "#### MLTable - Parquet\n",
        "The following shows sample code on how to create MLTable from parquet file."
      ]
    },
    {
      "cell_type": "code",
      "execution_count": null,
      "metadata": {
        "gather": {
          "logged": 1741228590338
        }
      },
      "outputs": [],
      "source": [
        "# Download sample data\n",
        "\n",
        "import mltable\n",
        "\n",
        "# glob the parquet file paths for years 2015-19, all months.\n",
        "paths = [\n",
        "    {\n",
        "        \"pattern\": \"wasbs://nyctlc@azureopendatastorage.blob.core.windows.net/green/puYear=2015/puMonth=*/*.parquet\"\n",
        "    },\n",
        "    {\n",
        "        \"pattern\": \"wasbs://nyctlc@azureopendatastorage.blob.core.windows.net/green/puYear=2016/puMonth=*/*.parquet\"\n",
        "    },\n",
        "    {\n",
        "        \"pattern\": \"wasbs://nyctlc@azureopendatastorage.blob.core.windows.net/green/puYear=2017/puMonth=*/*.parquet\"\n",
        "    },\n",
        "    {\n",
        "        \"pattern\": \"wasbs://nyctlc@azureopendatastorage.blob.core.windows.net/green/puYear=2018/puMonth=*/*.parquet\"\n",
        "    },\n",
        "    {\n",
        "        \"pattern\": \"wasbs://nyctlc@azureopendatastorage.blob.core.windows.net/green/puYear=2019/puMonth=*/*.parquet\"\n",
        "    },\n",
        "]\n",
        "\n",
        "# create a table from the parquet paths\n",
        "tbl = mltable.from_parquet_files(paths)\n",
        "\n",
        "# table a random sample\n",
        "tbl = tbl.take_random_sample(probability=0.001, seed=735)\n",
        "\n",
        "# filter trips with a distance > 0\n",
        "tbl = tbl.filter(\"col('tripDistance') > 0\")\n",
        "\n",
        "# Drop columns\n",
        "tbl = tbl.drop_columns([\"puLocationId\", \"doLocationId\", \"storeAndFwdFlag\"])\n",
        "\n",
        "# Create two new columns - year and month - where the values are taken from the path\n",
        "tbl = tbl.extract_columns_from_partition_format(\"/puYear={year}/puMonth={month}\")\n",
        "\n",
        "# print the first 5 records of the table as a check\n",
        "tbl.show(5)"
      ]
    },
    {
      "cell_type": "code",
      "execution_count": null,
      "metadata": {
        "gather": {
          "logged": 1741228590346
        }
      },
      "outputs": [],
      "source": [
        "# serialize the above data loading steps into an MLTable file\n",
        "tbl.save(\"./nyc_taxi\")"
      ]
    },
    {
      "cell_type": "code",
      "execution_count": null,
      "metadata": {
        "gather": {
          "logged": 1741228590352
        }
      },
      "outputs": [],
      "source": [
        "# View the MLTable\n",
        "with open(\"./nyc_taxi/MLTable\", \"r\") as f:\n",
        "    print(f.read())"
      ]
    },
    {
      "cell_type": "code",
      "execution_count": null,
      "metadata": {
        "gather": {
          "logged": 1741228590357
        }
      },
      "outputs": [],
      "source": [
        "# Reproduce the data loading steps and load into tbl\n",
        "\n",
        "import mltable\n",
        "\n",
        "# load the previously saved MLTable file\n",
        "tbl = mltable.load(\"./nyc_taxi/\")"
      ]
    },
    {
      "cell_type": "code",
      "execution_count": null,
      "metadata": {
        "gather": {
          "logged": 1741228590362
        }
      },
      "outputs": [],
      "source": [
        "# Creation of MLTable\n",
        "\n",
        "import time\n",
        "from azure.ai.ml import MLClient\n",
        "from azure.ai.ml.entities import Data\n",
        "from azure.ai.ml.constants import AssetTypes\n",
        "from azure.identity import DefaultAzureCredential\n",
        "\n",
        "# set the version number of the data asset to the current UTC time\n",
        "VERSION = time.strftime(\"%Y.%m.%d.%H%M%S\", time.gmtime())\n",
        "\n",
        "# connect to the AzureML workspace\n",
        "ml_client = MLClient(\n",
        "    DefaultAzureCredential(), subscription_id, resource_group, workspace\n",
        ")\n",
        "\n",
        "my_data = Data(\n",
        "    path=\"./nyc_taxi\",\n",
        "    type=AssetTypes.MLTABLE,\n",
        "    description=\"A random sample of NYC Green Taxi Data between 2015-19.\",\n",
        "    name=\"green-quickstart\",\n",
        "    version=VERSION,\n",
        ")\n",
        "\n",
        "ml_client.data.create_or_update(my_data)"
      ]
    },
    {
      "cell_type": "code",
      "execution_count": null,
      "metadata": {
        "gather": {
          "logged": 1741228590369
        }
      },
      "outputs": [],
      "source": [
        "# Read the table in development environment\n",
        "\n",
        "import mltable\n",
        "from azure.ai.ml import MLClient\n",
        "from azure.identity import DefaultAzureCredential\n",
        "\n",
        "# connect to the AzureML workspace\n",
        "ml_client = MLClient(\n",
        "    DefaultAzureCredential(), subscription_id, resource_group, workspace\n",
        ")\n",
        "\n",
        "# get the latest version of the data asset\n",
        "# Note: The version was set in the previous code cell.\n",
        "data_asset = ml_client.data.get(name=\"green-quickstart\", version=VERSION)\n",
        "\n",
        "# create a table\n",
        "tbl = mltable.load(f\"azureml:/{data_asset.id}\")\n",
        "\n",
        "tbl.show(5)"
      ]
    }
  ],
  "metadata": {
    "kernel_info": {
      "name": "python310-sdkv2"
    },
    "kernelspec": {
      "display_name": "Python 3",
      "language": "python",
      "name": "python3"
    },
    "language_info": {
      "codemirror_mode": {
        "name": "ipython",
        "version": 3
      },
      "file_extension": ".py",
      "mimetype": "text/x-python",
      "name": "python",
      "nbconvert_exporter": "python",
      "pygments_lexer": "ipython3",
      "version": "3.12.1"
    },
    "microsoft": {
      "host": {
        "AzureML": {
          "notebookHasBeenCompleted": true
        }
      },
      "ms_spell_check": {
        "ms_spell_check_language": "en"
      }
    },
    "nteract": {
      "version": "nteract-front-end@1.0.0"
    }
  },
  "nbformat": 4,
  "nbformat_minor": 2
}
